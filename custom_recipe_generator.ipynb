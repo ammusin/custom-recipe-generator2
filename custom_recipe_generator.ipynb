{
  "nbformat": 4,
  "nbformat_minor": 0,
  "metadata": {
    "colab": {
      "provenance": [],
      "authorship_tag": "ABX9TyOIT8Xql3NKjsc+4JibgUHA",
      "include_colab_link": true
    },
    "kernelspec": {
      "name": "python3",
      "display_name": "Python 3"
    },
    "language_info": {
      "name": "python"
    }
  },
  "cells": [
    {
      "cell_type": "markdown",
      "metadata": {
        "id": "view-in-github",
        "colab_type": "text"
      },
      "source": [
        "<a href=\"https://colab.research.google.com/github/ammusin/custom-recipe-generator2/blob/main/custom_recipe_generator.ipynb\" target=\"_parent\"><img src=\"https://colab.research.google.com/assets/colab-badge.svg\" alt=\"Open In Colab\"/></a>"
      ]
    },
    {
      "cell_type": "code",
      "execution_count": 1,
      "metadata": {
        "colab": {
          "base_uri": "https://localhost:8080/"
        },
        "id": "GW3qE1fnR0kD",
        "outputId": "77c5a999-1a89-49b2-efd0-bb57b3d3cf07"
      },
      "outputs": [
        {
          "output_type": "stream",
          "name": "stdout",
          "text": [
            "Requirement already satisfied: google-generativeai in /usr/local/lib/python3.11/dist-packages (0.8.4)\n",
            "Requirement already satisfied: google-ai-generativelanguage==0.6.15 in /usr/local/lib/python3.11/dist-packages (from google-generativeai) (0.6.15)\n",
            "Requirement already satisfied: google-api-core in /usr/local/lib/python3.11/dist-packages (from google-generativeai) (2.19.2)\n",
            "Requirement already satisfied: google-api-python-client in /usr/local/lib/python3.11/dist-packages (from google-generativeai) (2.155.0)\n",
            "Requirement already satisfied: google-auth>=2.15.0 in /usr/local/lib/python3.11/dist-packages (from google-generativeai) (2.27.0)\n",
            "Requirement already satisfied: protobuf in /usr/local/lib/python3.11/dist-packages (from google-generativeai) (4.25.6)\n",
            "Requirement already satisfied: pydantic in /usr/local/lib/python3.11/dist-packages (from google-generativeai) (2.10.6)\n",
            "Requirement already satisfied: tqdm in /usr/local/lib/python3.11/dist-packages (from google-generativeai) (4.67.1)\n",
            "Requirement already satisfied: typing-extensions in /usr/local/lib/python3.11/dist-packages (from google-generativeai) (4.12.2)\n",
            "Requirement already satisfied: proto-plus<2.0.0dev,>=1.22.3 in /usr/local/lib/python3.11/dist-packages (from google-ai-generativelanguage==0.6.15->google-generativeai) (1.26.0)\n",
            "Requirement already satisfied: googleapis-common-protos<2.0.dev0,>=1.56.2 in /usr/local/lib/python3.11/dist-packages (from google-api-core->google-generativeai) (1.66.0)\n",
            "Requirement already satisfied: requests<3.0.0.dev0,>=2.18.0 in /usr/local/lib/python3.11/dist-packages (from google-api-core->google-generativeai) (2.32.3)\n",
            "Requirement already satisfied: cachetools<6.0,>=2.0.0 in /usr/local/lib/python3.11/dist-packages (from google-auth>=2.15.0->google-generativeai) (5.5.1)\n",
            "Requirement already satisfied: pyasn1-modules>=0.2.1 in /usr/local/lib/python3.11/dist-packages (from google-auth>=2.15.0->google-generativeai) (0.4.1)\n",
            "Requirement already satisfied: rsa<5,>=3.1.4 in /usr/local/lib/python3.11/dist-packages (from google-auth>=2.15.0->google-generativeai) (4.9)\n",
            "Requirement already satisfied: httplib2<1.dev0,>=0.19.0 in /usr/local/lib/python3.11/dist-packages (from google-api-python-client->google-generativeai) (0.22.0)\n",
            "Requirement already satisfied: google-auth-httplib2<1.0.0,>=0.2.0 in /usr/local/lib/python3.11/dist-packages (from google-api-python-client->google-generativeai) (0.2.0)\n",
            "Requirement already satisfied: uritemplate<5,>=3.0.1 in /usr/local/lib/python3.11/dist-packages (from google-api-python-client->google-generativeai) (4.1.1)\n",
            "Requirement already satisfied: annotated-types>=0.6.0 in /usr/local/lib/python3.11/dist-packages (from pydantic->google-generativeai) (0.7.0)\n",
            "Requirement already satisfied: pydantic-core==2.27.2 in /usr/local/lib/python3.11/dist-packages (from pydantic->google-generativeai) (2.27.2)\n",
            "Requirement already satisfied: grpcio<2.0dev,>=1.33.2 in /usr/local/lib/python3.11/dist-packages (from google-api-core[grpc]!=2.0.*,!=2.1.*,!=2.10.*,!=2.2.*,!=2.3.*,!=2.4.*,!=2.5.*,!=2.6.*,!=2.7.*,!=2.8.*,!=2.9.*,<3.0.0dev,>=1.34.1->google-ai-generativelanguage==0.6.15->google-generativeai) (1.70.0)\n",
            "Requirement already satisfied: grpcio-status<2.0.dev0,>=1.33.2 in /usr/local/lib/python3.11/dist-packages (from google-api-core[grpc]!=2.0.*,!=2.1.*,!=2.10.*,!=2.2.*,!=2.3.*,!=2.4.*,!=2.5.*,!=2.6.*,!=2.7.*,!=2.8.*,!=2.9.*,<3.0.0dev,>=1.34.1->google-ai-generativelanguage==0.6.15->google-generativeai) (1.62.3)\n",
            "Requirement already satisfied: pyparsing!=3.0.0,!=3.0.1,!=3.0.2,!=3.0.3,<4,>=2.4.2 in /usr/local/lib/python3.11/dist-packages (from httplib2<1.dev0,>=0.19.0->google-api-python-client->google-generativeai) (3.2.1)\n",
            "Requirement already satisfied: pyasn1<0.7.0,>=0.4.6 in /usr/local/lib/python3.11/dist-packages (from pyasn1-modules>=0.2.1->google-auth>=2.15.0->google-generativeai) (0.6.1)\n",
            "Requirement already satisfied: charset-normalizer<4,>=2 in /usr/local/lib/python3.11/dist-packages (from requests<3.0.0.dev0,>=2.18.0->google-api-core->google-generativeai) (3.4.1)\n",
            "Requirement already satisfied: idna<4,>=2.5 in /usr/local/lib/python3.11/dist-packages (from requests<3.0.0.dev0,>=2.18.0->google-api-core->google-generativeai) (3.10)\n",
            "Requirement already satisfied: urllib3<3,>=1.21.1 in /usr/local/lib/python3.11/dist-packages (from requests<3.0.0.dev0,>=2.18.0->google-api-core->google-generativeai) (2.3.0)\n",
            "Requirement already satisfied: certifi>=2017.4.17 in /usr/local/lib/python3.11/dist-packages (from requests<3.0.0.dev0,>=2.18.0->google-api-core->google-generativeai) (2024.12.14)\n"
          ]
        }
      ],
      "source": [
        "pip install google-generativeai\n"
      ]
    },
    {
      "cell_type": "code",
      "source": [
        "import google.generativeai as genai\n",
        "\n",
        "# 🔹 Step 1: Configure API key\n",
        "GOOGLE_API_KEY = \"Use your api key\"  # 🔹 Replace with your actual API key\n",
        "genai.configure(api_key=GOOGLE_API_KEY)\n",
        "\n",
        "def generate_recipe(ingredients,diet_pref=None,cuisine=None):\n",
        "    \"\"\"Generate a unique recipe using Google Gemini AI based on available ingredients.\"\"\"\n",
        "\n",
        "    prompt = f\"\"\"\n",
        "    I have these ingredients: {', '.join(ingredients)}.\n",
        "    Create a unique and delicious recipe for me.\n",
        "    - Include a creative recipe title\n",
        "    - Provide a short description\n",
        "    - List all required ingredients\n",
        "    - Give step-by-step cooking instructions\n",
        "    \"\"\"\n",
        "\n",
        "    # 🔹 Step 2: Use Gemini AI Model\n",
        "    model = genai.GenerativeModel(\"gemini-pro\")\n",
        "    response = model.generate_content(prompt)\n",
        "\n",
        "    return response.text  # Extract generated recipe text\n",
        "\n",
        "# 🔹 Step 3: Get user input for ingredients\n",
        "ingredients = input(\"Enter available ingredients as well as your diet preference and cuisine style(comma-separated): \").strip().lower().split(\",\")\n",
        "\n",
        "# 🔹 Step 4: Generate AI-powered recipe\n",
        "recipe = generate_recipe(ingredients)\n",
        "\n",
        "# 🔹 Step 5: Display the AI-generated recipe\n",
        "print(\"\\n--- 🍽️ Your AI-Generated Recipe ---\")\n",
        "print(recipe)\n"
      ],
      "metadata": {
        "colab": {
          "base_uri": "https://localhost:8080/",
          "height": 443
        },
        "id": "f49FO2ylSDnn",
        "outputId": "09d4e379-103d-4e76-f2f0-63fee8759414"
      },
      "execution_count": 2,
      "outputs": [
        {
          "output_type": "stream",
          "name": "stdout",
          "text": [
            "Enter available ingredients as well as your diet preference and cuisine style(comma-separated): desi ghee,carrot,khowa,milk,sugar\n",
            "\n",
            "--- 🍽️ Your AI-Generated Recipe ---\n",
            "**Recipe Title:** Golden Ambrosia\n",
            "\n",
            "**Description:** A celestial treat that combines the rich flavors of desi ghee, succulent carrots, creamy khowa, and pure milk, all harmoniously blended with a touch of sweetness.\n",
            "\n",
            "**Ingredients:**\n",
            "\n",
            "- 1/2 cup desi ghee\n",
            "- 1 lb carrots, peeled and grated\n",
            "- 1/2 lb khowa\n",
            "- 3 cups whole milk\n",
            "- 1/2 cup sugar\n",
            "\n",
            "**Instructions:**\n",
            "\n",
            "1. **Caramelize the Carrots:** In a heavy-bottomed pan, melt the desi ghee over medium heat. Add the grated carrots and stir to coat. Cook until the carrots soften and caramelize slightly, about 10 minutes.\n",
            "2. **Add Khowa and Milk:** Crumble the khowa into the pan and stir to combine with the carrots. Gradually add the milk, stirring constantly to prevent lumps. Bring the mixture to a simmer.\n",
            "3. **Cook and Thicken:** Reduce heat to low and simmer for 20-30 minutes, or until the mixture thickens and reduces by half. Stir occasionally to prevent sticking.\n",
            "4. **Sweeten and Flavor:** Add the sugar and stir to dissolve. Let the mixture simmer for another 5-7 minutes, or until it reaches your desired sweetness and consistency.\n",
            "5. **Serve with Warmth:** Remove from heat and let cool slightly. Serve the Golden Ambrosia warm, garnished with chopped nuts or a sprinkle of cinnamon for an extra touch of delight.\n"
          ]
        }
      ]
    },
    {
      "cell_type": "code",
      "source": [
        "import pandas as pd\n",
        "import random\n",
        "\n",
        "# Load dataset\n",
        "dataset = pd.read_csv(\"dataset_recipe2.csv\")\n",
        "\n",
        "# Convert necessary columns to lowercase for case-insensitive matching\n",
        "dataset['Cuisine'] = dataset['Cuisine'].str.lower().str.strip()\n",
        "dataset['Dietary Restrictions'] = dataset['Dietary Restrictions'].str.lower().str.strip()\n",
        "dataset['Ingredients'] = dataset['Ingredients'].str.lower().str.strip()\n",
        "\n",
        "def find_recipes(available_ingredients, cuisine, dietary_restrictions):\n",
        "    \"\"\"Find recipes that match the available ingredients, cuisine, and dietary restrictions.\"\"\"\n",
        "    matching_recipes = []\n",
        "\n",
        "    for _, row in dataset.iterrows():\n",
        "        recipe_ingredients = set(row['Ingredients'].split(\", \"))  # Convert to set for exact matching\n",
        "        recipe_cuisine = row['Cuisine']\n",
        "        recipe_dietary = row['Dietary Restrictions']\n",
        "\n",
        "        # Check if at least one available ingredient matches\n",
        "        if any(ingredient in recipe_ingredients for ingredient in available_ingredients):\n",
        "            # Ensure cuisine and dietary restrictions match (if provided)\n",
        "            if (not cuisine or cuisine == recipe_cuisine) and (not dietary_restrictions or dietary_restrictions == recipe_dietary):\n",
        "                matching_recipes.append(row)\n",
        "\n",
        "    return matching_recipes\n",
        "\n",
        "def get_random_recipe(recipes):\n",
        "    \"\"\"Select a random recipe from the matching recipes.\"\"\"\n",
        "    return random.choice(recipes) if recipes else None\n",
        "\n",
        "def main():\n",
        "    available_ingredients = input(\"Enter available ingredients (comma-separated): \").strip().lower().split(\", \")\n",
        "    cuisine = input(\"Enter preferred cuisine (or press Enter to skip): \").strip().lower()\n",
        "    dietary_restrictions = input(\"Enter dietary restrictions (or press Enter to skip): \").strip().lower()\n",
        "\n",
        "    matching_recipes = find_recipes(available_ingredients, cuisine, dietary_restrictions)\n",
        "\n",
        "    if matching_recipes:\n",
        "        selected_recipe = get_random_recipe(matching_recipes)\n",
        "        print(\"\\n--- 🍽️ Recommended Recipe ---\")\n",
        "        print(f\"Recipe Name: {selected_recipe['Recipe Name']}\")\n",
        "        print(f\"Cook Time: {selected_recipe['Cook Time']}\")\n",
        "        print(f\"Calories: {selected_recipe['Calories']}\")\n",
        "        print(f\"Servings: {selected_recipe['Servings']}\")\n",
        "        print(f\"Instructions: {selected_recipe['Instructions']}\")\n",
        "    else:\n",
        "        print(\"\\n⚠️ No matching recipes found. Try with different criteria!\")\n",
        "\n",
        "if __name__ == \"__main__\":\n",
        "    main()"
      ],
      "metadata": {
        "colab": {
          "base_uri": "https://localhost:8080/"
        },
        "id": "LqzRgFulhyOO",
        "outputId": "ae01dc91-4054-4d64-f532-179cff6e1a17"
      },
      "execution_count": 20,
      "outputs": [
        {
          "output_type": "stream",
          "name": "stdout",
          "text": [
            "Enter available ingredients (comma-separated): Chicken, Butter, Tomato, Cream, Spices\n",
            "Enter preferred cuisine (or press Enter to skip): \n",
            "Enter dietary restrictions (or press Enter to skip): \n",
            "\n",
            "--- 🍽️ Recommended Recipe ---\n",
            "Recipe Name: Bhindi Masala\n",
            "Cook Time: 20 mins\n",
            "Calories: 200\n",
            "Servings: 3\n",
            "Instructions: Sauté okra → Cook with spices\n"
          ]
        }
      ]
    }
  ]
}
